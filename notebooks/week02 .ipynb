{
  "cells": [
    {
      "cell_type": "markdown",
      "id": "96fec322-80a5-4dce-9fef-9f4ca9195bc3",
      "metadata": {},
      "source": [
        "# 🐍 Python Control Flow & Functions Exercises\n",
        "\n",
        "This notebook contains practice problems on:\n",
        "1. `if / elif` vs multiple `if`\n",
        "2. `match` statement (Python 3.10+)\n",
        "3. `for` loops\n",
        "4. `while` loops\n",
        "5. Functions\n",
        "6. File I/O\n"
      ]
    },
    {
      "cell_type": "markdown",
      "id": "5bf1ebbf-ce7d-4ab8-af23-d4de3c961d4c",
      "metadata": {},
      "source": [
        "## 1. Conditions  \n",
        "\n",
        "We want to describe today’s weather based on temperature.  \n",
        "Notice the difference between using `if/elif` vs. multiple `if` statements.  \n"
      ]
    },
    {
      "cell_type": "code",
      "execution_count": null,
      "id": "ba6e8fc7-df5d-4767-a4d2-2ac1aec8f3d6",
      "metadata": {
        "trusted": true
      },
      "outputs": [],
      "source": [
        "#Setup\n",
        "temperature = 5"
      ]
    },
    {
      "cell_type": "markdown",
      "id": "115e18c3-4a50-4bf4-91bc-1de613ec4228",
      "metadata": {},
      "source": [
        "### Case A: Using if / elif  \n",
        "Only one branch will run.  "
      ]
    },
    {
      "cell_type": "code",
      "execution_count": null,
      "id": "b6945076-e233-4d42-9915-b82a68a97aca",
      "metadata": {
        "trusted": true
      },
      "outputs": [],
      "source": [
        "if temperature < 0:\n",
        "    print(\"Freezing\")\n",
        "elif temperature < 15:\n",
        "    print(\"Cold\")\n",
        "elif temperature < 25:\n",
        "    print(\"Mild\")\n",
        "else:\n",
        "    print(\"Hot\")"
      ]
    },
    {
      "cell_type": "markdown",
      "id": "ec4947e8-c20f-498a-815d-6666b794bb06",
      "metadata": {},
      "source": [
        "### Case B: Using separate if statements  \n",
        "Multiple branches may run.  \n"
      ]
    },
    {
      "cell_type": "code",
      "execution_count": null,
      "id": "c3c0fc91-e032-4aa6-9022-31cf8185e32a",
      "metadata": {
        "trusted": true
      },
      "outputs": [],
      "source": [
        "if temperature < 0:\n",
        "    print(\"Freezing\")\n",
        "if temperature < 15:\n",
        "    print(\"Cold\")\n",
        "if temperature < 25:\n",
        "    print(\"Mild\")\n",
        "else:\n",
        "    print(\"Hot\")\n"
      ]
    },
    {
      "cell_type": "markdown",
      "id": "e4c5db05-0a58-40da-9026-023c7e839699",
      "metadata": {},
      "source": [
        "## 2. Match Statement\n",
        "\n",
        "Use a `match` statement to print the day of the week given a number (1=Monday, …, 7=Sunday).\n"
      ]
    },
    {
      "cell_type": "code",
      "execution_count": null,
      "id": "c70b4d53-1574-4e54-977f-eedc1aea86c2",
      "metadata": {
        "trusted": true
      },
      "outputs": [],
      "source": []
    },
    {
      "cell_type": "markdown",
      "id": "2d7b2000-7663-4ee8-b246-b536eaee333e",
      "metadata": {},
      "source": [
        "## 3. For Loop\n",
        "\n",
        "Use a `for` loop to print all numbers from 1 to 10.\n",
        "\n",
        "Now calculate the sum of numbers from 1 to 10."
      ]
    },
    {
      "cell_type": "code",
      "execution_count": null,
      "id": "2e7381f0-cc58-4f38-bc9b-f440ae5a6c87",
      "metadata": {
        "trusted": true
      },
      "outputs": [],
      "source": []
    },
    {
      "cell_type": "markdown",
      "id": "1e9650cf-e79e-4bb7-acb6-cb8e1f2dc03c",
      "metadata": {},
      "source": [
        "Can you 'always' achieve the same results with while?\n",
        "Why do we need while loops?"
      ]
    },
    {
      "cell_type": "markdown",
      "id": "deadc7f0-865b-4f7c-87c5-67e3d676dd6d",
      "metadata": {},
      "source": [
        "## 4. While Loop\n",
        "\n",
        "Use a `while` loop to reverse the digits of a number. Example: 1234 → 4321.\n"
      ]
    },
    {
      "cell_type": "code",
      "execution_count": null,
      "id": "8b01e3b1-da0d-4098-976f-3c3bcfcb05e0",
      "metadata": {
        "trusted": true
      },
      "outputs": [],
      "source": []
    },
    {
      "cell_type": "markdown",
      "id": "020ada19-24ca-4ba8-8722-242f77236d68",
      "metadata": {},
      "source": [
        "## 5. Function\n",
        "\n",
        "Write a function `is_prime(n)` that checks whether a number is prime. Test it with a few values."
      ]
    },
    {
      "cell_type": "code",
      "execution_count": null,
      "id": "6a71b308-7914-4c92-8e7f-6feade6d51b7",
      "metadata": {
        "trusted": true
      },
      "outputs": [],
      "source": []
    },
    {
      "cell_type": "markdown",
      "id": "428b3e63-0448-4508-9d71-4ce68a5eccf5",
      "metadata": {},
      "source": [
        "Now write a program that prints all even numbers from 1 to 100. Can you do it without writing a function?"
      ]
    },
    {
      "cell_type": "markdown",
      "id": "e169ff2b-855b-43ad-8c78-d8564bfe5370",
      "metadata": {},
      "source": [
        "## 6. File I/O\n",
        "\n",
        "Write to a file called `test.txt` and then read its contents back.\n"
      ]
    },
    {
      "cell_type": "code",
      "execution_count": null,
      "id": "6d31790a-7b1c-4e15-afb9-2a6bf4936682",
      "metadata": {
        "trusted": true
      },
      "outputs": [],
      "source": []
    },
    {
      "cell_type": "markdown",
      "id": "444789a6-5f9c-4e1a-b7bd-f307a468fd2a",
      "metadata": {},
      "source": [
        "## 7. Practice Problems 🎯  \n",
        "\n",
        "Now it’s time to combine everything you’ve learned.  \n",
        "Below are several independent problems.  \n",
        "For each one, read the description carefully and write a solution in Python.  \n",
        "Try to decide on your own which constructs (conditions, loops, functions, etc.) are most suitable.  \n",
        "\n",
        "---\n"
      ]
    },
    {
      "cell_type": "markdown",
      "id": "ae6d3195-f4b5-4104-acbb-2829b33a7d69",
      "metadata": {},
      "source": [
        "### Problem 1 — Not an Obstacle  \n",
        "\n",
        "John wants to calculate the average time he needs to run a distance `x` kilometers.  \n",
        "If he is tired, he runs **2 times slower** than usual.  \n",
        "The average speed of John is 5 km/h.  \n",
        "\n",
        "Write a function `average_time(x, is_tired)` that returns the average time in hours.  \n",
        "\n",
        "Examples:  \n",
        "- `average_time(10, is_tired=False)` → `2.0`  \n",
        "- `average_time(10, is_tired=True)` → `4.0`  \n"
      ]
    },
    {
      "cell_type": "code",
      "execution_count": null,
      "id": "786774ec-065a-4719-ba14-a621a72c7388",
      "metadata": {
        "trusted": true
      },
      "outputs": [],
      "source": [
        "def average_time(x: int, is_tired: bool) -> float:\n",
        "    pass\n",
        "\n",
        "print(average_time(10, is_tired=False))  # 2.0\n",
        "print(average_time(10, is_tired=True))   # 4.0\n"
      ]
    },
    {
      "cell_type": "markdown",
      "id": "a9f9dcbc-5053-482d-beb7-8ed92456b990",
      "metadata": {},
      "source": [
        "### Problem 2 — Leap Year  \n",
        "\n",
        "Write a function `is_leap(year)` that returns `True` if the year is a leap year and `False` otherwise.  \n",
        "\n",
        "Rules:  \n",
        "- A year is a leap year if it is divisible by 4.  \n",
        "- But if it is divisible by 100, it must also be divisible by 400 to be a leap year.  \n",
        "\n",
        "Examples:  \n",
        "- `is_leap(2020)` → `True`  \n",
        "- `is_leap(2021)` → `False`  \n"
      ]
    },
    {
      "cell_type": "code",
      "execution_count": null,
      "id": "648bc99f-41a8-4f36-8376-30fe0504d07f",
      "metadata": {
        "trusted": true
      },
      "outputs": [],
      "source": [
        "def is_leap(year: int) -> bool:\n",
        "    pass\n",
        "\n",
        "print(is_leap(2020))  # True\n",
        "print(is_leap(2021))  # False\n"
      ]
    },
    {
      "cell_type": "markdown",
      "id": "ac2f57f2-c095-4448-82bf-c94fada39864",
      "metadata": {},
      "source": [
        "### Problem 3 — Cake for Everyone  \n",
        "\n",
        "At a competition, the winners will receive a pie.  \n",
        "The pie must be pre-cut so it can be distributed evenly among **either team A (a people)** or **team B (b people)**.  \n",
        "\n",
        "Find the **minimum suitable number of pieces** so that it can be split evenly no matter who wins.  \n",
        "\n",
        "Write a function `cake(a, b)` that returns this minimum number of pieces.  \n",
        "\n",
        "Examples:  \n",
        "- `cake(5, 5)` → `5`  \n",
        "- `cake(5, 3)` → `15`  \n",
        "- `cake(12, 8)` → `24`  \n"
      ]
    },
    {
      "cell_type": "code",
      "execution_count": null,
      "id": "f5cf62f4-3a5a-4c08-a7c7-bf07513c4a2b",
      "metadata": {
        "trusted": true
      },
      "outputs": [],
      "source": [
        "def cake(a: int, b: int) -> int:\n",
        "    pass\n",
        "\n",
        "print(cake(5, 5))   # 5\n",
        "print(cake(5, 3))   # 15\n",
        "print(cake(12, 8))  # 24"
      ]
    }
  ],
  "metadata": {
    "kernelspec": {
      "display_name": "Python 3.13 (XPython)",
      "language": "python",
      "name": "xpython"
    },
    "language_info": {
      "file_extension": ".py",
      "mimetype": "text/x-python",
      "name": "python",
      "version": "3.13.1"
    }
  },
  "nbformat": 4,
  "nbformat_minor": 5
}

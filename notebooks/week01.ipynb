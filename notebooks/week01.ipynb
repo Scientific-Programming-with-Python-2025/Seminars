{
  "cells": [
    {
      "cell_type": "markdown",
      "id": "a7fbc40d-4f29-4264-8166-2c3e6488b5cf",
      "metadata": {},
      "source": [
        "# 🐍 Python Basics Exercises\n",
        "\n",
        "This notebook contains several exercises to help you practice fundamental Python concepts:\n",
        "1. Data Types\n",
        "2. Identifiers\n",
        "3. Variables & Operators\n",
        "4. Formatted Output\n",
        "5. Input in Python\n"
      ]
    },
    {
      "cell_type": "markdown",
      "id": "cd1f3f07-f845-4136-8b25-0f483a034b9d",
      "metadata": {},
      "source": [
        "## 1. Data Types Exercise\n",
        "We will explore Python’s basic types: `int`, `float`, `bool`, `None`, and `str`.\n",
        "Some of the results might be **unexpected** 🤯 — so pay close attention!"
      ]
    },
    {
      "cell_type": "code",
      "execution_count": null,
      "id": "f8a05ba9-f884-4b9e-a4ac-6130e18d77bc",
      "metadata": {
        "trusted": true
      },
      "outputs": [],
      "source": [
        "x = 5        # int\n",
        "y = 2.0      # float\n",
        "z = \"5\"      # str\n",
        "a = True     # bool\n",
        "b = None     # NoneType"
      ]
    },
    {
      "cell_type": "code",
      "execution_count": null,
      "id": "6abbe2fd-8e42-4721-a03b-d2b152b0a30f",
      "metadata": {
        "trusted": true
      },
      "outputs": [],
      "source": [
        "print(x + y)           # int + float"
      ]
    },
    {
      "cell_type": "code",
      "execution_count": null,
      "id": "6f517c77-0a98-4f9f-b8cb-72e707f83102",
      "metadata": {
        "trusted": true
      },
      "outputs": [],
      "source": [
        "print(x + z)           # int + str"
      ]
    },
    {
      "cell_type": "code",
      "execution_count": null,
      "id": "26b2fcac-97b7-4235-a03c-00d5d44e182e",
      "metadata": {
        "trusted": true
      },
      "outputs": [],
      "source": [
        "print(a + x)           # bool + int"
      ]
    },
    {
      "cell_type": "code",
      "execution_count": null,
      "id": "0d74a50d-3241-4141-88b6-83c98e7b1a92",
      "metadata": {
        "trusted": true
      },
      "outputs": [],
      "source": [
        "print(bool(b))         # bool(None)"
      ]
    },
    {
      "cell_type": "code",
      "execution_count": null,
      "id": "221a5441-5bac-4de0-ae96-653313cbc21a",
      "metadata": {
        "trusted": true
      },
      "outputs": [],
      "source": [
        "print(str(a) + z)      # str + str"
      ]
    },
    {
      "cell_type": "code",
      "execution_count": null,
      "id": "8d0e3405-2423-4b6b-9942-4029641b8b41",
      "metadata": {
        "trusted": true
      },
      "outputs": [],
      "source": [
        "print(0.1 + 0.2 == 0.3) # floating-point trap"
      ]
    },
    {
      "cell_type": "code",
      "execution_count": null,
      "id": "e736aff7-7d17-4d4b-b291-c9907703eddc",
      "metadata": {
        "trusted": true
      },
      "outputs": [],
      "source": [
        "print(int(\"010\"))      # int from string"
      ]
    },
    {
      "cell_type": "code",
      "execution_count": null,
      "id": "49a71891-a82b-4b75-bfad-e658954fa23e",
      "metadata": {
        "trusted": true
      },
      "outputs": [],
      "source": [
        "print(float(\"nan\") == float(\"nan\")) # NaN comparison"
      ]
    },
    {
      "cell_type": "markdown",
      "id": "a5b2f96e-e0f4-420d-94dc-096e81e64c87",
      "metadata": {},
      "source": [
        "## 2. Identifiers Exercise\n",
        "Identifiers are the names you give to variables, functions, etc. in Python.\n",
        "\n",
        "**Rules:**\n",
        "- Can contain letters, digits, and underscores `_`\n",
        "- Cannot start with a digit\n",
        "- Cannot use reserved keywords (`if`, `while`, etc.)\n",
        "\n",
        "### Try:\n",
        "- `camelCase`\n",
        "- `PascalCase`\n",
        "- `snake_case`\n",
        "\n",
        "And test invalid identifiers such as: `2bad`, `my-var`, `class`."
      ]
    },
    {
      "cell_type": "code",
      "execution_count": null,
      "id": "9cb38ef2-8edb-4896-8d1a-fcb9a349af13",
      "metadata": {
        "trusted": true
      },
      "outputs": [],
      "source": [
        "# Valid identifiers\n",
        "camelCase = 10\n",
        "PascalCase = 20\n",
        "snake_case = 30\n",
        "\n",
        "print(camelCase, PascalCase, snake_case)\n",
        "\n",
        "# Invalid identifiers (uncomment one by one to see errors)\n",
        "# 2bad = 5\n",
        "# my-var = 6\n",
        "# class = 7"
      ]
    },
    {
      "cell_type": "markdown",
      "id": "0b5133fb-4e28-4a59-a9c1-16d6d6fd8217",
      "metadata": {},
      "source": [
        "## 3. Variables & Operators Exercise  \n",
        "We will practice operators using a shopkeeper example.  "
      ]
    },
    {
      "cell_type": "code",
      "execution_count": null,
      "id": "0a015bd5-8c95-4351-8eb5-9ad7716a5e1c",
      "metadata": {
        "trusted": true
      },
      "outputs": [],
      "source": [
        "# Setup\n",
        "apples = 23\n",
        "bananas = 7\n",
        "price_per_apple = 2.5\n",
        "price_per_banana = 1.8"
      ]
    },
    {
      "cell_type": "markdown",
      "id": "d8a492fa-aeab-4452-82ab-74f100ddd13f",
      "metadata": {},
      "source": [
        "### 1. How many fruits are there in total?  \n"
      ]
    },
    {
      "cell_type": "code",
      "execution_count": null,
      "id": "aad7e98b-b040-4778-b4ca-859a2a3c1bda",
      "metadata": {
        "trusted": true
      },
      "outputs": [],
      "source": [
        "total_fruits = ___\n",
        "print(\"Total fruits:\", total_fruits)"
      ]
    },
    {
      "cell_type": "markdown",
      "id": "316e85e6-6a84-4c12-93f6-cd3a651c7a8a",
      "metadata": {},
      "source": [
        "### 2. If apples are packed in boxes of 4, how many full boxes can be made, and how many apples are left?  "
      ]
    },
    {
      "cell_type": "code",
      "execution_count": null,
      "id": "77163753-dd8e-4d75-b4fc-aab313c3b2ff",
      "metadata": {
        "trusted": true
      },
      "outputs": [],
      "source": [
        "boxes = ___\n",
        "leftover_apples = ___\n",
        "print(\"Boxes of apples:\", boxes, \"Leftover apples:\", leftover_apples)"
      ]
    },
    {
      "cell_type": "markdown",
      "id": "d6c0682c-310a-4bbf-b74b-93ad4091b82d",
      "metadata": {},
      "source": [
        "### 3. What is the total price of all fruits?  "
      ]
    },
    {
      "cell_type": "code",
      "execution_count": null,
      "id": "ba656d31-3299-4bb6-88a3-f2b857ac9ba8",
      "metadata": {
        "trusted": true
      },
      "outputs": [],
      "source": [
        "total_price = ___\n",
        "print(\"Total price:\", total_price)"
      ]
    },
    {
      "cell_type": "markdown",
      "id": "609270de-84a4-4bd2-adf7-6ed367e46a9a",
      "metadata": {},
      "source": [
        "### 4. If the shopkeeper gives a 15% discount on the total, what is the final price?  \n"
      ]
    },
    {
      "cell_type": "code",
      "execution_count": null,
      "id": "62803885-01eb-44d8-b0d3-2e14ce842d70",
      "metadata": {
        "trusted": true
      },
      "outputs": [],
      "source": [
        "final_price = ___\n",
        "print(\"Final price after discount:\", final_price)"
      ]
    },
    {
      "cell_type": "markdown",
      "id": "03ec8495-8aa4-4a1c-a558-8cfa93fe2d44",
      "metadata": {},
      "source": [
        "### 5. Check if the number of apples is greater than bananas.  "
      ]
    },
    {
      "cell_type": "code",
      "execution_count": null,
      "id": "859462f8-f406-4747-9f39-702d582b1782",
      "metadata": {
        "trusted": true
      },
      "outputs": [],
      "source": [
        "more_apples = ___\n",
        "print(\"Are there more apples than bananas?\", more_apples)"
      ]
    },
    {
      "cell_type": "markdown",
      "id": "8eebc106-b51e-4b8b-a453-73059227a89d",
      "metadata": {},
      "source": [
        "### 6. Check if the total number of fruits is even.  \n"
      ]
    },
    {
      "cell_type": "code",
      "execution_count": null,
      "id": "800b6034-e10f-4de5-a4fa-e920d9a54f3d",
      "metadata": {
        "trusted": true
      },
      "outputs": [],
      "source": [
        "is_even = ___\n",
        "print(\"Is the total number of fruits even?\", is_even)"
      ]
    },
    {
      "cell_type": "markdown",
      "id": "69e44968-8d9f-49b0-86f1-116528397871",
      "metadata": {},
      "source": [
        "### 7. Suppose the shopkeeper wants to double the number of bananas — update the variable and show the new count.  "
      ]
    },
    {
      "cell_type": "code",
      "execution_count": null,
      "id": "85c45ba9-7948-4f65-b97e-0a24d1fe4068",
      "metadata": {
        "trusted": true
      },
      "outputs": [],
      "source": [
        "bananas ___\n",
        "print(\"Bananas after doubling:\", bananas)"
      ]
    },
    {
      "cell_type": "markdown",
      "id": "dbc279a0-166a-4c3e-893d-52342b473fa8",
      "metadata": {},
      "source": [
        "## 4. Formatted Output Exercise\n",
        "Python allows formatted output with `format()` or f-strings.\n",
        "\n",
        "Try controlling **precision** and **spacing**."
      ]
    },
    {
      "cell_type": "code",
      "execution_count": null,
      "id": "dce16f2c-eb0b-4f02-aa91-e8af95364d44",
      "metadata": {
        "trusted": true
      },
      "outputs": [],
      "source": [
        "# Setup\n",
        "pi = 3.141592653589793\n",
        "e = 2.71828"
      ]
    },
    {
      "cell_type": "markdown",
      "id": "03c2a507-01df-4219-8739-4f509d32f7dd",
      "metadata": {},
      "source": [
        "### 1. Print π (pi) with 2 decimal places.  \n"
      ]
    },
    {
      "cell_type": "code",
      "execution_count": null,
      "id": "86a1c9b4-5421-47b7-b2ef-5b18448ae6fc",
      "metadata": {
        "trusted": true
      },
      "outputs": [],
      "source": [
        "print(\"Pi is approximately {}\".format(___))"
      ]
    },
    {
      "cell_type": "markdown",
      "id": "2da06317-9576-4d75-a607-a701c6ee5f87",
      "metadata": {},
      "source": [
        "### 2. Print π (pi) with 4 decimal places using an f-string.  \n"
      ]
    },
    {
      "cell_type": "code",
      "execution_count": null,
      "id": "9d9db640-ffac-400c-9be8-56604b2fbae2",
      "metadata": {
        "trusted": true
      },
      "outputs": [],
      "source": [
        "print(f\"Pi is approximately {pi:___}\")"
      ]
    },
    {
      "cell_type": "markdown",
      "id": "f50a888b-7131-443d-9be8-3d07fda8d7eb",
      "metadata": {},
      "source": [
        "### 3. Print π with its name left-aligned in a 10-character field, and its value right-aligned with 3 decimal places.  \n"
      ]
    },
    {
      "cell_type": "code",
      "execution_count": null,
      "id": "0f1b30f1-8d8d-44d0-9e37-33704a2d2acb",
      "metadata": {
        "trusted": true
      },
      "outputs": [],
      "source": [
        "print(f\"{'Pi':___} | {pi:___}\")"
      ]
    },
    {
      "cell_type": "markdown",
      "id": "85098088-b03c-40ea-a1c3-50977861ab58",
      "metadata": {},
      "source": [
        "### 4. Print e with its name left-aligned in a 10-character field, and its value right-aligned with 3 decimal places.  "
      ]
    },
    {
      "cell_type": "code",
      "execution_count": null,
      "id": "04fd0895-1d00-4fc9-8b57-8743b17da93d",
      "metadata": {
        "trusted": true
      },
      "outputs": [],
      "source": [
        "print(f\"{'e':___} | {e:___}\")"
      ]
    },
    {
      "cell_type": "markdown",
      "id": "57395d53-ecb5-4c5a-80e3-ab33c496e3ae",
      "metadata": {},
      "source": [
        "## 5. Input in Python  \n",
        "\n",
        "We will practice using `input()` and type conversion.  "
      ]
    },
    {
      "cell_type": "markdown",
      "id": "a9f5e156-9995-4878-a91e-62671b9feb38",
      "metadata": {},
      "source": [
        "### 1. Ask the user for their name and greet them.  \n"
      ]
    },
    {
      "cell_type": "code",
      "execution_count": null,
      "id": "2fb4862b-edb0-4c12-9dd2-cf730f30f75c",
      "metadata": {
        "trusted": true
      },
      "outputs": [],
      "source": [
        "name = ____\n",
        "print(f\"Hello {name}, nice to meet you!\")"
      ]
    },
    {
      "cell_type": "markdown",
      "id": "a121cb9e-b897-4a82-becf-c955c206293a",
      "metadata": {},
      "source": [
        "### 2. Ask the user for their age and calculate how old they will be in 10 years.  \n"
      ]
    },
    {
      "cell_type": "code",
      "execution_count": null,
      "id": "2c1a1935-fb28-4a4c-9b19-0183b82ef2ac",
      "metadata": {
        "trusted": true
      },
      "outputs": [],
      "source": [
        "age = ____\n",
        "print(f\"In 10 years, you will be {___} years old!\")"
      ]
    }
  ],
  "metadata": {
    "kernelspec": {
      "display_name": "Python 3.13 (XPython)",
      "language": "python",
      "name": "xpython"
    },
    "language_info": {
      "file_extension": ".py",
      "mimetype": "text/x-python",
      "name": "python",
      "version": "3.13.1"
    }
  },
  "nbformat": 4,
  "nbformat_minor": 5
}
